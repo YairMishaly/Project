{
 "cells": [
  {
   "cell_type": "code",
   "execution_count": 1,
   "metadata": {},
   "outputs": [],
   "source": [
    "import tensorflow as tf\n",
    "config = tf.compat.v1.ConfigProto(gpu_options = \n",
    "                         tf.compat.v1.GPUOptions(per_process_gpu_memory_fraction=0.8)\n",
    ")\n",
    "config.gpu_options.allow_growth = True\n",
    "session = tf.compat.v1.Session(config=config)\n",
    "tf.compat.v1.keras.backend.set_session(session)"
   ]
  },
  {
   "cell_type": "code",
   "execution_count": 2,
   "metadata": {},
   "outputs": [],
   "source": [
    "import pandas as pd\n",
    "import numpy as np\n",
    "import matplotlib.pyplot as plt\n",
    "import matplotlib.image as mpimg\n",
    "#import seaborn as sns\n",
    "#%matplotlib inline\n",
    "\n",
    "np.random.seed(2)\n",
    "\n",
    "import tensorflow.keras\n",
    "from tensorflow.keras.layers import Dense\n",
    "from tensorflow.keras.models import Sequential\n",
    "from tensorflow.keras.callbacks import History, ReduceLROnPlateau\n",
    "from tensorflow.keras.layers import Dense, Dropout, Activation, Flatten\n",
    "from tensorflow.keras.layers import Conv2D, MaxPooling2D, BatchNormalization, LSTM, RepeatVector, TimeDistributed,LayerNormalization\n",
    "from tensorflow.keras import backend as K\n",
    "history = History()\n",
    "from sklearn import preprocessing\n",
    "min_max_scaler = preprocessing.MinMaxScaler()\n"
   ]
  },
  {
   "cell_type": "code",
   "execution_count": 3,
   "metadata": {},
   "outputs": [],
   "source": [
    "data = pd.read_excel(\"C:/Users/chilk/Desktop/guy/d.xlsx\")"
   ]
  },
  {
   "cell_type": "code",
   "execution_count": 4,
   "metadata": {},
   "outputs": [
    {
     "data": {
      "text/html": [
       "<div>\n",
       "<style scoped>\n",
       "    .dataframe tbody tr th:only-of-type {\n",
       "        vertical-align: middle;\n",
       "    }\n",
       "\n",
       "    .dataframe tbody tr th {\n",
       "        vertical-align: top;\n",
       "    }\n",
       "\n",
       "    .dataframe thead th {\n",
       "        text-align: right;\n",
       "    }\n",
       "</style>\n",
       "<table border=\"1\" class=\"dataframe\">\n",
       "  <thead>\n",
       "    <tr style=\"text-align: right;\">\n",
       "      <th></th>\n",
       "      <th>Time (LCLG)</th>\n",
       "      <th>Azimuth (deg)</th>\n",
       "      <th>Elevation (deg)</th>\n",
       "      <th>Range (km)</th>\n",
       "      <th>EIRP (dBW)</th>\n",
       "      <th>Xmtr Power (dBW)</th>\n",
       "      <th>Xmtr Gain (dB)</th>\n",
       "      <th>Xmtr EIRP Intensity (dBW/Sterad)</th>\n",
       "      <th>Atmos Loss (dB)</th>\n",
       "      <th>UrbanTerres Loss (dB)</th>\n",
       "      <th>...</th>\n",
       "      <th>Carrier Power at Rcvr Input (dBW)</th>\n",
       "      <th>Rcvr Gain (dB)</th>\n",
       "      <th>Eb/No (dB)</th>\n",
       "      <th>Tatmos (K)</th>\n",
       "      <th>TUrbanTerres (K)</th>\n",
       "      <th>Train (K)</th>\n",
       "      <th>TcloudsFog (K)</th>\n",
       "      <th>TtropoScintill (K)</th>\n",
       "      <th>TionoFading (K)</th>\n",
       "      <th>Unnamed: 30</th>\n",
       "    </tr>\n",
       "  </thead>\n",
       "  <tbody>\n",
       "    <tr>\n",
       "      <td>0</td>\n",
       "      <td>2020-06-24 12:18:20.373000</td>\n",
       "      <td>269.08</td>\n",
       "      <td>5</td>\n",
       "      <td>2092.57</td>\n",
       "      <td>55.414</td>\n",
       "      <td>30</td>\n",
       "      <td>25.4144</td>\n",
       "      <td>44.4223</td>\n",
       "      <td>0.3663</td>\n",
       "      <td>0</td>\n",
       "      <td>...</td>\n",
       "      <td>-87.967</td>\n",
       "      <td>25.4146</td>\n",
       "      <td>41.1308</td>\n",
       "      <td>19.106</td>\n",
       "      <td>0</td>\n",
       "      <td>0.15</td>\n",
       "      <td>0.183</td>\n",
       "      <td>55.441</td>\n",
       "      <td>407.25</td>\n",
       "      <td>NaN</td>\n",
       "    </tr>\n",
       "    <tr>\n",
       "      <td>1</td>\n",
       "      <td>2020-06-24 12:18:21</td>\n",
       "      <td>269.082</td>\n",
       "      <td>5.048</td>\n",
       "      <td>2088.4</td>\n",
       "      <td>55.414</td>\n",
       "      <td>30</td>\n",
       "      <td>25.4144</td>\n",
       "      <td>44.4223</td>\n",
       "      <td>0.3633</td>\n",
       "      <td>0</td>\n",
       "      <td>...</td>\n",
       "      <td>-87.935</td>\n",
       "      <td>25.4146</td>\n",
       "      <td>41.1694</td>\n",
       "      <td>18.954</td>\n",
       "      <td>0</td>\n",
       "      <td>0.149</td>\n",
       "      <td>0.181</td>\n",
       "      <td>54.882</td>\n",
       "      <td>407.122</td>\n",
       "      <td>NaN</td>\n",
       "    </tr>\n",
       "    <tr>\n",
       "      <td>2</td>\n",
       "      <td>2020-06-24 12:18:22</td>\n",
       "      <td>269.086</td>\n",
       "      <td>5.124</td>\n",
       "      <td>2081.76</td>\n",
       "      <td>55.414</td>\n",
       "      <td>30</td>\n",
       "      <td>25.4144</td>\n",
       "      <td>44.4223</td>\n",
       "      <td>0.3587</td>\n",
       "      <td>0</td>\n",
       "      <td>...</td>\n",
       "      <td>-87.884</td>\n",
       "      <td>25.4146</td>\n",
       "      <td>41.2304</td>\n",
       "      <td>18.716</td>\n",
       "      <td>0</td>\n",
       "      <td>0.147</td>\n",
       "      <td>0.179</td>\n",
       "      <td>54.009</td>\n",
       "      <td>406.912</td>\n",
       "      <td>NaN</td>\n",
       "    </tr>\n",
       "    <tr>\n",
       "      <td>3</td>\n",
       "      <td>2020-06-24 12:18:23</td>\n",
       "      <td>269.09</td>\n",
       "      <td>5.201</td>\n",
       "      <td>2075.12</td>\n",
       "      <td>55.414</td>\n",
       "      <td>30</td>\n",
       "      <td>25.4144</td>\n",
       "      <td>44.4223</td>\n",
       "      <td>0.3541</td>\n",
       "      <td>0</td>\n",
       "      <td>...</td>\n",
       "      <td>-87.834</td>\n",
       "      <td>25.4146</td>\n",
       "      <td>41.2907</td>\n",
       "      <td>18.483</td>\n",
       "      <td>0</td>\n",
       "      <td>0.145</td>\n",
       "      <td>0.176</td>\n",
       "      <td>53.158</td>\n",
       "      <td>406.694</td>\n",
       "      <td>NaN</td>\n",
       "    </tr>\n",
       "    <tr>\n",
       "      <td>4</td>\n",
       "      <td>2020-06-24 12:18:24</td>\n",
       "      <td>269.094</td>\n",
       "      <td>5.278</td>\n",
       "      <td>2068.48</td>\n",
       "      <td>55.414</td>\n",
       "      <td>30</td>\n",
       "      <td>25.4144</td>\n",
       "      <td>44.4223</td>\n",
       "      <td>0.3496</td>\n",
       "      <td>0</td>\n",
       "      <td>...</td>\n",
       "      <td>-87.784</td>\n",
       "      <td>25.4146</td>\n",
       "      <td>41.3505</td>\n",
       "      <td>18.255</td>\n",
       "      <td>0</td>\n",
       "      <td>0.143</td>\n",
       "      <td>0.174</td>\n",
       "      <td>52.327</td>\n",
       "      <td>406.47</td>\n",
       "      <td>NaN</td>\n",
       "    </tr>\n",
       "  </tbody>\n",
       "</table>\n",
       "<p>5 rows × 31 columns</p>\n",
       "</div>"
      ],
      "text/plain": [
       "                  Time (LCLG) Azimuth (deg) Elevation (deg) Range (km)  \\\n",
       "0  2020-06-24 12:18:20.373000        269.08               5    2092.57   \n",
       "1         2020-06-24 12:18:21       269.082           5.048     2088.4   \n",
       "2         2020-06-24 12:18:22       269.086           5.124    2081.76   \n",
       "3         2020-06-24 12:18:23        269.09           5.201    2075.12   \n",
       "4         2020-06-24 12:18:24       269.094           5.278    2068.48   \n",
       "\n",
       "  EIRP (dBW) Xmtr Power (dBW) Xmtr Gain (dB) Xmtr EIRP Intensity (dBW/Sterad)  \\\n",
       "0     55.414               30        25.4144                          44.4223   \n",
       "1     55.414               30        25.4144                          44.4223   \n",
       "2     55.414               30        25.4144                          44.4223   \n",
       "3     55.414               30        25.4144                          44.4223   \n",
       "4     55.414               30        25.4144                          44.4223   \n",
       "\n",
       "  Atmos Loss (dB) UrbanTerres Loss (dB)  ...  \\\n",
       "0          0.3663                     0  ...   \n",
       "1          0.3633                     0  ...   \n",
       "2          0.3587                     0  ...   \n",
       "3          0.3541                     0  ...   \n",
       "4          0.3496                     0  ...   \n",
       "\n",
       "  Carrier Power at Rcvr Input (dBW) Rcvr Gain (dB) Eb/No (dB) Tatmos (K)  \\\n",
       "0                           -87.967        25.4146    41.1308     19.106   \n",
       "1                           -87.935        25.4146    41.1694     18.954   \n",
       "2                           -87.884        25.4146    41.2304     18.716   \n",
       "3                           -87.834        25.4146    41.2907     18.483   \n",
       "4                           -87.784        25.4146    41.3505     18.255   \n",
       "\n",
       "  TUrbanTerres (K) Train (K) TcloudsFog (K) TtropoScintill (K)  \\\n",
       "0                0      0.15          0.183             55.441   \n",
       "1                0     0.149          0.181             54.882   \n",
       "2                0     0.147          0.179             54.009   \n",
       "3                0     0.145          0.176             53.158   \n",
       "4                0     0.143          0.174             52.327   \n",
       "\n",
       "  TionoFading (K) Unnamed: 30  \n",
       "0          407.25         NaN  \n",
       "1         407.122         NaN  \n",
       "2         406.912         NaN  \n",
       "3         406.694         NaN  \n",
       "4          406.47         NaN  \n",
       "\n",
       "[5 rows x 31 columns]"
      ]
     },
     "execution_count": 4,
     "metadata": {},
     "output_type": "execute_result"
    }
   ],
   "source": [
    "data.head()"
   ]
  },
  {
   "cell_type": "code",
   "execution_count": 6,
   "metadata": {},
   "outputs": [],
   "source": [
    "df = pd.concat([data.iloc[:590,1:9] , data.iloc[597:1180,1:9], data.iloc[1187:1690,1:9], data.iloc[1698:2190,1:9]])"
   ]
  },
  {
   "cell_type": "code",
   "execution_count": 7,
   "metadata": {},
   "outputs": [
    {
     "data": {
      "text/html": [
       "<div>\n",
       "<style scoped>\n",
       "    .dataframe tbody tr th:only-of-type {\n",
       "        vertical-align: middle;\n",
       "    }\n",
       "\n",
       "    .dataframe tbody tr th {\n",
       "        vertical-align: top;\n",
       "    }\n",
       "\n",
       "    .dataframe thead th {\n",
       "        text-align: right;\n",
       "    }\n",
       "</style>\n",
       "<table border=\"1\" class=\"dataframe\">\n",
       "  <thead>\n",
       "    <tr style=\"text-align: right;\">\n",
       "      <th></th>\n",
       "      <th>0</th>\n",
       "      <th>1</th>\n",
       "      <th>2</th>\n",
       "      <th>3</th>\n",
       "      <th>4</th>\n",
       "      <th>5</th>\n",
       "      <th>6</th>\n",
       "      <th>7</th>\n",
       "    </tr>\n",
       "  </thead>\n",
       "  <tbody>\n",
       "    <tr>\n",
       "      <td>2163</td>\n",
       "      <td>0.257909</td>\n",
       "      <td>0.004742</td>\n",
       "      <td>0.977425</td>\n",
       "      <td>0.0</td>\n",
       "      <td>0.0</td>\n",
       "      <td>0.0</td>\n",
       "      <td>0.0</td>\n",
       "      <td>0.926506</td>\n",
       "    </tr>\n",
       "    <tr>\n",
       "      <td>2164</td>\n",
       "      <td>0.257586</td>\n",
       "      <td>0.003957</td>\n",
       "      <td>0.980942</td>\n",
       "      <td>0.0</td>\n",
       "      <td>0.0</td>\n",
       "      <td>0.0</td>\n",
       "      <td>0.0</td>\n",
       "      <td>0.937349</td>\n",
       "    </tr>\n",
       "    <tr>\n",
       "      <td>2165</td>\n",
       "      <td>0.257264</td>\n",
       "      <td>0.003173</td>\n",
       "      <td>0.984463</td>\n",
       "      <td>0.0</td>\n",
       "      <td>0.0</td>\n",
       "      <td>0.0</td>\n",
       "      <td>0.0</td>\n",
       "      <td>0.948494</td>\n",
       "    </tr>\n",
       "    <tr>\n",
       "      <td>2166</td>\n",
       "      <td>0.256944</td>\n",
       "      <td>0.002401</td>\n",
       "      <td>0.987988</td>\n",
       "      <td>0.0</td>\n",
       "      <td>0.0</td>\n",
       "      <td>0.0</td>\n",
       "      <td>0.0</td>\n",
       "      <td>0.959940</td>\n",
       "    </tr>\n",
       "    <tr>\n",
       "      <td>2167</td>\n",
       "      <td>0.256627</td>\n",
       "      <td>0.001629</td>\n",
       "      <td>0.991518</td>\n",
       "      <td>0.0</td>\n",
       "      <td>0.0</td>\n",
       "      <td>0.0</td>\n",
       "      <td>0.0</td>\n",
       "      <td>0.971386</td>\n",
       "    </tr>\n",
       "  </tbody>\n",
       "</table>\n",
       "</div>"
      ],
      "text/plain": [
       "             0         1         2    3    4    5    6         7\n",
       "2163  0.257909  0.004742  0.977425  0.0  0.0  0.0  0.0  0.926506\n",
       "2164  0.257586  0.003957  0.980942  0.0  0.0  0.0  0.0  0.937349\n",
       "2165  0.257264  0.003173  0.984463  0.0  0.0  0.0  0.0  0.948494\n",
       "2166  0.256944  0.002401  0.987988  0.0  0.0  0.0  0.0  0.959940\n",
       "2167  0.256627  0.001629  0.991518  0.0  0.0  0.0  0.0  0.971386"
      ]
     },
     "execution_count": 7,
     "metadata": {},
     "output_type": "execute_result"
    }
   ],
   "source": [
    "df = pd.DataFrame(min_max_scaler.fit_transform(df))\n",
    "df.tail()"
   ]
  },
  {
   "cell_type": "code",
   "execution_count": 9,
   "metadata": {},
   "outputs": [],
   "source": [
    "lb =pd.concat([data.iloc[:590,10:12] , data.iloc[597:1180,10:12], data.iloc[1187:1690,10:12], data.iloc[1698:2190,10:12]])"
   ]
  },
  {
   "cell_type": "code",
   "execution_count": 10,
   "metadata": {},
   "outputs": [
    {
     "data": {
      "text/plain": [
       "(2168, 2)"
      ]
     },
     "execution_count": 10,
     "metadata": {},
     "output_type": "execute_result"
    }
   ],
   "source": [
    "lb = pd.DataFrame(min_max_scaler.fit_transform(lb))\n",
    "lb.shape"
   ]
  },
  {
   "cell_type": "code",
   "execution_count": 12,
   "metadata": {},
   "outputs": [],
   "source": [
    "df = np.asarray(df)\n",
    "lb = np.asarray(lb)"
   ]
  },
  {
   "cell_type": "code",
   "execution_count": 13,
   "metadata": {},
   "outputs": [],
   "source": [
    "x_train = df[:1950]\n",
    "x_train = x_train.reshape(x_train.shape[0], 8)\n",
    "x_test = df[1950:]\n",
    "x_test = x_test.reshape(x_test.shape[0], 8)"
   ]
  },
  {
   "cell_type": "code",
   "execution_count": 14,
   "metadata": {},
   "outputs": [
    {
     "name": "stdout",
     "output_type": "stream",
     "text": [
      "(1950, 2)\n",
      "(218, 2)\n"
     ]
    }
   ],
   "source": [
    "y_train = lb[:1950]\n",
    "y_test = lb[1950:]\n",
    "print(y_train.shape)\n",
    "print(y_test.shape)\n"
   ]
  },
  {
   "cell_type": "code",
   "execution_count": 15,
   "metadata": {},
   "outputs": [],
   "source": [
    "y_train = y_train.reshape(x_train.shape[0], 2)\n",
    "y_test = y_test.reshape(x_test.shape[0], 2)"
   ]
  },
  {
   "cell_type": "code",
   "execution_count": 16,
   "metadata": {},
   "outputs": [
    {
     "data": {
      "text/plain": [
       "(1950, 2)"
      ]
     },
     "execution_count": 16,
     "metadata": {},
     "output_type": "execute_result"
    }
   ],
   "source": [
    "y_train.shape\n"
   ]
  },
  {
   "cell_type": "code",
   "execution_count": 17,
   "metadata": {},
   "outputs": [],
   "source": [
    "x_train=np.asarray(x_train).astype(np.float32)\n",
    "x_test=np.asarray(x_test).astype(np.float32)\n",
    "y_train=np.asarray(y_train).astype(np.float32)\n",
    "y_test=np.asarray(y_test).astype(np.float32)"
   ]
  },
  {
   "cell_type": "code",
   "execution_count": 75,
   "metadata": {},
   "outputs": [
    {
     "name": "stdout",
     "output_type": "stream",
     "text": [
      "Model: \"sequential_8\"\n",
      "_________________________________________________________________\n",
      "Layer (type)                 Output Shape              Param #   \n",
      "=================================================================\n",
      "dense_36 (Dense)             (None, 1000)              9000      \n",
      "_________________________________________________________________\n",
      "dense_37 (Dense)             (None, 100)               100100    \n",
      "_________________________________________________________________\n",
      "dropout_8 (Dropout)          (None, 100)               0         \n",
      "_________________________________________________________________\n",
      "dense_38 (Dense)             (None, 10)                1010      \n",
      "_________________________________________________________________\n",
      "dense_39 (Dense)             (None, 2)                 22        \n",
      "=================================================================\n",
      "Total params: 110,132\n",
      "Trainable params: 110,132\n",
      "Non-trainable params: 0\n",
      "_________________________________________________________________\n"
     ]
    }
   ],
   "source": [
    "model = Sequential()\n",
    "model.add(Dense(1000, input_shape=(8,),activation='relu'))\n",
    "model.add(Dense(100 ,activation='relu'))\n",
    "model.add(Dropout(0.4))\n",
    "model.add(Dense(10 ,activation='relu'))\n",
    "model.add(Dense(2, activation = 'softmax'))\n",
    "model.summary()"
   ]
  },
  {
   "cell_type": "markdown",
   "metadata": {},
   "source": [
    "x_train = x_train.reshape(-1, 1, 8)\n",
    "x_test  = x_test.reshape(-1, 1, 8)"
   ]
  },
  {
   "cell_type": "markdown",
   "metadata": {},
   "source": [
    "model = Sequential()\n",
    "model.add(LSTM(100, activation='relu', input_shape=(1, 8)))\n",
    "model.add(Dense(1))"
   ]
  },
  {
   "cell_type": "code",
   "execution_count": 76,
   "metadata": {},
   "outputs": [],
   "source": [
    "reduce_lr = ReduceLROnPlateau(monitor='val_loss', factor=0.1,verbose=1,\n",
    "                              patience=5, min_lr=0.00001)"
   ]
  },
  {
   "cell_type": "code",
   "execution_count": 77,
   "metadata": {},
   "outputs": [],
   "source": [
    "epochs = 10\n",
    "batch_size = 1"
   ]
  },
  {
   "cell_type": "code",
   "execution_count": 78,
   "metadata": {},
   "outputs": [
    {
     "name": "stdout",
     "output_type": "stream",
     "text": [
      "Train on 1755 samples, validate on 195 samples\n",
      "Epoch 1/10\n",
      "1755/1755 [==============================] - 4s 2ms/sample - loss: 0.6931 - CategoricalAccuracy: 0.6484 - val_loss: 0.6931 - val_CategoricalAccuracy: 0.8513\n",
      "Epoch 2/10\n",
      "1755/1755 [==============================] - 3s 2ms/sample - loss: 0.6930 - CategoricalAccuracy: 0.7595 - val_loss: 0.6930 - val_CategoricalAccuracy: 0.9026\n",
      "Epoch 3/10\n",
      "1755/1755 [==============================] - 3s 2ms/sample - loss: 0.6930 - CategoricalAccuracy: 0.7698 - val_loss: 0.6930 - val_CategoricalAccuracy: 0.9641\n",
      "Epoch 4/10\n",
      "1755/1755 [==============================] - 3s 2ms/sample - loss: 0.6930 - CategoricalAccuracy: 0.7618 - val_loss: 0.6931 - val_CategoricalAccuracy: 0.9846\n",
      "Epoch 5/10\n",
      "1755/1755 [==============================] - 3s 2ms/sample - loss: 0.6929 - CategoricalAccuracy: 0.7721 - val_loss: 0.6931 - val_CategoricalAccuracy: 0.9538\n",
      "Epoch 6/10\n",
      "1739/1755 [============================>.] - ETA: 0s - loss: 0.6929 - CategoricalAccuracy: 0.7654\n",
      "Epoch 00006: ReduceLROnPlateau reducing learning rate to 0.00010000000474974513.\n",
      "1755/1755 [==============================] - 3s 2ms/sample - loss: 0.6929 - CategoricalAccuracy: 0.7664 - val_loss: 0.6930 - val_CategoricalAccuracy: 0.9077\n",
      "Epoch 7/10\n",
      "1755/1755 [==============================] - 3s 2ms/sample - loss: 0.6929 - CategoricalAccuracy: 0.7869 - val_loss: 0.6930 - val_CategoricalAccuracy: 0.9179\n",
      "Epoch 8/10\n",
      "1755/1755 [==============================] - 3s 2ms/sample - loss: 0.6929 - CategoricalAccuracy: 0.7937 - val_loss: 0.6930 - val_CategoricalAccuracy: 0.8872\n",
      "Epoch 9/10\n",
      "1755/1755 [==============================] - 3s 2ms/sample - loss: 0.6929 - CategoricalAccuracy: 0.8034 - val_loss: 0.6930 - val_CategoricalAccuracy: 0.9231\n",
      "Epoch 10/10\n",
      "1755/1755 [==============================] - 3s 2ms/sample - loss: 0.6929 - CategoricalAccuracy: 0.7972 - val_loss: 0.6930 - val_CategoricalAccuracy: 0.8974\n",
      "218/1 [============================================================================================================================================================================================================================================================================================================================================================================================================================================================================================================================================================================================================================================================================================================================================================================================================================================================================================================================================================================================================================================================================================================================================================================================================================================================================================================================================================================================================================================================================================================================================================================================================================================================================================================================================================================================================================================================================================================================================================================================================================================================================================================================================================================================================================================================================================================================================================================================================================================================================================================================================================================================================================================================================================================================================================================================================================================================================================================================================================================================================================================================================================================================================================================================================================================================================================================================================================================================================================================================================================================================================================================================================================================================================================================================================================================================================================================================================================================================================================================================================================================================================================================================================================================================================================================================================================================================================================================================================================================================================================================================================================================================================================================================================================================================================================================================================================================================================================================================================================================================================================================================================================================================================================================================================================================================================================================================================================================================================================================================================================================================================================================================================================================================================================================================================================================================================================================================================================================================================================================================================================================================================================================================================================================================================================================================================================================================================================================================================================================================================================================================================================================================================================================================================================================================================================================================================] - 0s 667us/sample - loss: 0.6931 - CategoricalAccuracy: 0.8073\n"
     ]
    }
   ],
   "source": [
    "model.compile(optimizer=\"adam\", loss='binary_crossentropy', metrics=['CategoricalAccuracy'])\n",
    "history = model.fit(x_train, y_train, batch_size=batch_size, epochs=epochs, verbose=True, validation_split=.1,callbacks=[reduce_lr])\n",
    "loss, accuracy  = model.evaluate(x_test, y_test, verbose=True)"
   ]
  },
  {
   "cell_type": "code",
   "execution_count": 79,
   "metadata": {},
   "outputs": [
    {
     "data": {
      "image/png": "[encoded data removed]",
      "text/plain": [
       "<Figure size 432x288 with 1 Axes>"
      ]
     },
     "metadata": {
      "needs_background": "light"
     },
     "output_type": "display_data"
    }
   ],
   "source": [
    "plt.plot(history.history['CategoricalAccuracy'])\n",
    "plt.plot(history.history['val_CategoricalAccuracy'])\n",
    "plt.title('model accuracy')\n",
    "plt.ylabel('accuracy')\n",
    "plt.xlabel('epoch')\n",
    "plt.legend(['training', 'Accuracy'], loc='best')\n",
    "plt.show()"
   ]
  },
  {
   "cell_type": "code",
   "execution_count": 80,
   "metadata": {},
   "outputs": [],
   "source": [
    "yhat = model.predict(x_test, verbose=0)"
   ]
  },
  {
   "cell_type": "markdown",
   "metadata": {},
   "source": []
  },
  {
   "cell_type": "code",
   "execution_count": null,
   "metadata": {},
   "outputs": [],
   "source": []
  }
 ],
 "metadata": {
  "kernelspec": {
   "display_name": "Python 3",
   "language": "python",
   "name": "python3"
  },
  "language_info": {
   "codemirror_mode": {
    "name": "ipython",
    "version": 3
   },
   "file_extension": ".py",
   "mimetype": "text/x-python",
   "name": "python",
   "nbconvert_exporter": "python",
   "pygments_lexer": "ipython3",
   "version": "3.7.4"
  }
 },
 "nbformat": 4,
 "nbformat_minor": 4
}
